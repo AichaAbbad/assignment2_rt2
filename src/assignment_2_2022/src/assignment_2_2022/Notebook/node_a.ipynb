{
 "cells": [
  {
   "cell_type": "markdown",
   "id": "2efc72ed",
   "metadata": {},
   "source": [
    "<font size = 6 >Research track 02 | Assignment 2</font>"
   ]
  },
  {
   "cell_type": "markdown",
   "id": "d1880554",
   "metadata": {},
   "source": [
    "<font size = 4 color = 'Purple'>Student : </font>\n",
    "<font size = 4 >Aicha Manar ABBAD</font>\n",
    "\n",
    "<font size = 4 color = 'Purple'>Student ID: </font>\n",
    "<font size = 4> s5565902</font>"
   ]
  },
  {
   "cell_type": "markdown",
   "id": "4a321468",
   "metadata": {},
   "source": [
    "--------------------------------------"
   ]
  },
  {
   "cell_type": "markdown",
   "id": "6e48b9f5",
   "metadata": {},
   "source": [
    "# Notebook description"
   ]
  },
  {
   "cell_type": "markdown",
   "id": "c393e8a8",
   "metadata": {},
   "source": [
    "<font size = 4 > This Notebook servers as a user interface for the control a 2 wheeled mobile robot in a ROS environment. It also shows the graphical feedback of the state of the robot and its behaviour.</font> \n",
    "\n",
    "<font size = 4 > This Notebook is organized into 4 parts : </font>\n",
    "\n",
    "   <font size = 4 > 1. Packages</font>\n",
    "    \n",
    "   <font size = 4 > 2. Classes</font>\n",
    "   \n",
    "   <font size = 4 > 3. Required functions</font>\n",
    "   \n",
    "   <font size = 4 > 4. Controlling robot motion using buttons</font>"
   ]
  },
  {
   "cell_type": "markdown",
   "id": "9c20c28c",
   "metadata": {},
   "source": [
    "## Node 'A'"
   ]
  },
  {
   "cell_type": "markdown",
   "id": "6553a427",
   "metadata": {},
   "source": [
    "<font size = 4 > Node 'A' implements an action client that allows the user to set a target goal or cancel it. The node also publishes and velocity as a costum message, which includes the values for (x, y, x_vel, y_vel) based the values published in \"/odom\" topic.</font>\n",
    "\n",
    "<font size = 4 > Starting from (Node 'A') we aim to build a Jupyter Notebook to replace it. This is done by using widgets to let the user know: </font>\n",
    "\n",
    "<font size = 4 >  - The position of the robot </font>\n",
    "\n",
    "<font size = 4 >  - The goals that have been set and cancelled </font>\n",
    "\n",
    "<font size = 4 >  - The distance to the closest obstacle </font>"
   ]
  },
  {
   "cell_type": "markdown",
   "id": "0a063aaf",
   "metadata": {},
   "source": [
    "--------------------------------------"
   ]
  },
  {
   "cell_type": "markdown",
   "id": "3978ad67",
   "metadata": {},
   "source": [
    "<font size = 5 > __1. We start by importing the necessary packages :__ </font>"
   ]
  },
  {
   "cell_type": "code",
   "execution_count": 1,
   "id": "d4db4fd7",
   "metadata": {},
   "outputs": [
    {
     "name": "stdout",
     "output_type": "stream",
     "text": [
      "Requirement already satisfied: rospy in /opt/ros/noetic/lib/python3/dist-packages (1.15.9)\r\n",
      "Requirement already satisfied: rostopic in /opt/ros/noetic/lib/python3/dist-packages (1.15.9)\r\n",
      "Requirement already satisfied: rosparam in /opt/ros/noetic/lib/python3/dist-packages (1.15.9)\r\n"
     ]
    }
   ],
   "source": [
    "!pip3 install rospy rostopic rosparam\n",
    "\n",
    "import rospy\n",
    "import actionlib\n",
    "import geometry_msgs.msg\n",
    "import nav_msgs.msg\n",
    "import time\n",
    "import assignment_2_2022.msg\n",
    "\n",
    "import matplotlib.pyplot as plt\n",
    "import jupyros as jr\n",
    "import ipywidgets as widgets\n",
    "import numpy as np"
   ]
  },
  {
   "cell_type": "code",
   "execution_count": 2,
   "id": "decf64c3",
   "metadata": {},
   "outputs": [],
   "source": [
    "from geometry_msgs.msg import PoseStamped, Twist\n",
    "from nav_msgs.msg import Odometry\n",
    "from assignment_2_2022.msg import position, PlanningActionGoal, PlanningActionResult\n",
    "from std_msgs.msg import String\n",
    "from sensor_msgs.msg import LaserScan\n",
    "from matplotlib.animation import FuncAnimation\n",
    "from matplotlib.lines import Line2D\n",
    "from matplotlib.patches import Arrow, Circle\n",
    "from jupyros import ros3d\n",
    "from ipywidgets import Button, Layout, ButtonStyle, GridBox, VBox, HBox, widgets\n",
    "from IPython.display import display\n",
    "from std_srvs.srv import Empty,EmptyResponse\n",
    "\n",
    "from buttons import *"
   ]
  },
  {
   "cell_type": "markdown",
   "id": "92a1652c",
   "metadata": {},
   "source": [
    "----------------"
   ]
  },
  {
   "cell_type": "markdown",
   "id": "00800b2a",
   "metadata": {},
   "source": [
    "<font size = 5 > __2. Classes :__ </font>"
   ]
  },
  {
   "cell_type": "markdown",
   "id": "d8d199af",
   "metadata": {},
   "source": [
    "<font size = 4 color = 'green'> __Visualiser()__ : </font>\n",
    "<font size = 3 >This class is responsible for handling the visualization of a robot's position, orientation, and sensor data. </font>"
   ]
  },
  {
   "cell_type": "markdown",
   "id": "1e2b054a",
   "metadata": {},
   "source": [
    "<font size = 3 > \"__ __init__ __ \" : It creates two subplots for plotting the robot's initial position (odom), the goal position (goal), and laser scan data (laser_scan) </font>\n",
    "\n",
    "<font size = 3 > \"__odom_callback__\" : A callback function that receives data about the robot's position and velocity. It appends the x and y coordinates to the corresponding lists and stores the velocity values. </font>\n",
    "\n",
    "<font size = 3 > \"__goal_callback__\" : A callback function that receives the goal position. It appends the new x and y coordinates to the corresponding lists.</font>\n",
    "\n",
    "<font size = 3 > \"__laser_callback__\" : A callback function  that receives laser scan data. It stores the laser scan data in a list and returns it.</font>\n",
    "\n",
    "<font size = 3 > \"__plot_update_1__\" and  \"__plot_update_2__\": Are ccalled to update the subplots with the latest robot position and goal position as well as the latest laser scan data.</font>"
   ]
  },
  {
   "cell_type": "code",
   "execution_count": 3,
   "id": "e6bbe57a",
   "metadata": {
    "scrolled": false
   },
   "outputs": [],
   "source": [
    "class Visualiser:\n",
    "    \n",
    "    def __init__(self):\n",
    "        \n",
    "        self.figure_1, self.ax1 = plt.subplots()\n",
    "        self.ax1.set_title(\"Odometry\")\n",
    "        self.ax1.set_xlabel(\"X - Coordinates\")\n",
    "        self.ax1.set_ylabel(\"Y - Coordinates\")\n",
    "        self.ax1.set_xlim(-12,12)\n",
    "        self.ax1.set_ylim(-12,12)\n",
    "        self.odom = self.ax1.plot([],[],'ro', label = 'Robot position')\n",
    "        self.goal = self.ax1.plot([],[],'b*', label = 'Goal')\n",
    "        plt.legend(facecolor = '#faebd7', fontsize = 10)\n",
    "        \n",
    "        self.figure_2, self.ax2 = plt.subplots()\n",
    "        self.ax2.set_title(\"Laser\")\n",
    "        self.ax2.set_xlabel(\"X - Coordinates\")\n",
    "        self.ax2.set_ylabel(\"Y - Coordinates\")\n",
    "        self.ax2.set_xlim(-12,12)\n",
    "        self.ax2.set_ylim(-12,12)\n",
    "        self.laser_scan = self.ax2.plot([],[],'o', label = \"Laser scans\")\n",
    "        plt.legend(facecolor = '#faebd7', fontsize = 10)\n",
    "    \n",
    "        self.x_odom = []\n",
    "        self.y_odom = []\n",
    "        self.x_goal = []\n",
    "        self.y_goal = []\n",
    "        self.laser = []\n",
    "        self.plot_init()\n",
    "        \n",
    "        \n",
    "    def plot_init(self):\n",
    "        \n",
    "        return self.odom, self.goal, self.laser_scan\n",
    "        \n",
    "                \n",
    "    def odom_callback(self,data):\n",
    "        self.x_odom.append(data.pose.pose.position.x)\n",
    "        self.y_odom.append(data.pose.pose.position.y)\n",
    "        self.x_vel = data.twist.twist.linear.x\n",
    "        self.y_vel = data.twist.twist.linear.y\n",
    "    \n",
    "    def goal_callback(self,position):\n",
    "        self.x_goal.clear()\n",
    "        self.y_goal.clear()\n",
    "        self.x_goal.append(position.goal.target_pose.pose.position.x)\n",
    "        self.y_goal.append(position.goal.target_pose.pose.position.y)\n",
    "        \n",
    "    def laser_callback(self,msg):\n",
    "        self.laser = list(msg.ranges)\n",
    "        return self.laser\n",
    "    \n",
    "        \n",
    "    def plot_update_1(self,frame):\n",
    "        self.odom.set_data(self.x_odom,self.y_odom)\n",
    "        self.goal.set_data(self.x_goal,self.y_goal)\n",
    "        return self.odom, self.goal\n",
    "    \n",
    "    \n",
    "    def plot_update_2(self,frame):\n",
    "        self.laser_scan.set_data(list(np.linspace(0,720,720)),self.laser)\n",
    "        return self.laser_scan"
   ]
  },
  {
   "cell_type": "markdown",
   "id": "1e053e06",
   "metadata": {},
   "source": [
    "<font size = 4 color = 'green'> __Goals()__ : </font>\n",
    "<font size = 3 >This class is responsible for tracking and visualizing the progress of goals being reached or cancelled. </font>"
   ]
  },
  {
   "cell_type": "markdown",
   "id": "a6e21555",
   "metadata": {},
   "source": [
    "<font size = 3 > \"__ __init__ __\" : It creates a new figure to show the initial count of goals reached and goals cancelled.  </font>\n",
    "\n",
    "<font size = 3 > \"__reached_callback__\" : It is a callback function that receives data about the status of a goal and increase the number of reached / cancelled goals.  </font>\n",
    "\n",
    "<font size = 3 > \"__plot_update_3__\" : It is responsible for updating the plot with the latest counts of reached and cancelled goals.  </font>"
   ]
  },
  {
   "cell_type": "code",
   "execution_count": 4,
   "id": "3b78524a",
   "metadata": {},
   "outputs": [],
   "source": [
    "class Goals:\n",
    "    \n",
    "    def __init__(self):\n",
    "        \n",
    "        self.goal_reached = 0\n",
    "        self.goal_cancelled = 0\n",
    "\n",
    "        self.figure = plt.figure()\n",
    "        \n",
    "        plots = plt.rcParams[\"figure.autolayout\"] = True\n",
    "        plt.bar([\"Goals reached\", \"Goals cancelled\"],[self.goal_reached,self.goal_cancelled], color =['green','red'])\n",
    "        \n",
    "    def reached_callback(self, data):\n",
    "        \n",
    "        if(data.status.status == 3):\n",
    "            self.goal_reached = self.goal_reached + 1\n",
    "            \n",
    "        elif(data.status.status == 2):\n",
    "            self.goal_cancelled = self.goal_cancelled + 1\n",
    "        \n",
    "        \n",
    "    def plot_update_3(self,frame):\n",
    "        plots = plt.bar([\"Goal reached\", \"Goal ancelled\"],[self.goal_reached,self.goal_cancelled], color =['green','red'])\n",
    "        \n",
    "        "
   ]
  },
  {
   "cell_type": "markdown",
   "id": "273da6a3",
   "metadata": {},
   "source": [
    "<font size = 4 color = 'green'> __Distance()__ : </font>\n",
    "<font size = 3 >  computes the distance between the current position and a desired position, and stores the computed distance in an instance variable. </font>"
   ]
  },
  {
   "cell_type": "markdown",
   "id": "4e1a1cce",
   "metadata": {},
   "source": [
    "<font size = 3 > \"__ __init__ __\" : Initialize the value of distance, velocity, starting and ending time to zero. </font>\n",
    "\n",
    "<font size = 3 > \"__sub_callback__\" : A callback faction which is called to compute the distance and velocity.</font>\n",
    "\n",
    "<font size = 3 > \"__compute_distance__\" : A function that is defined to calculate the distance based on the data received. It retrieves the desired position coordinates from ROS parameters, gets the current position coordinates from the data, and then computes the distance between the two points using the distance formula. The calculated distance is stored, and it is also printed to the console.</font>"
   ]
  },
  {
   "cell_type": "code",
   "execution_count": 5,
   "id": "06b44cfe",
   "metadata": {},
   "outputs": [],
   "source": [
    "class Distance:\n",
    "    \n",
    "    def __init__(self):\n",
    "        \n",
    "        self.distance =  0.0\n",
    "        self.begin_time = 0.0\n",
    "        self.end_time = 0.0\n",
    "        self.velocity = 0.0\n",
    "    \n",
    "    \n",
    "    def sub_callback(self, data):\n",
    "        self.compute_distance()\n",
    "        self.compute_velocity()\n",
    "    \n",
    "    \n",
    "    def compute_distance(self,data):\n",
    "\n",
    "        self.x_pos = rospy.get_param(\"/des_pos_x\")\n",
    "        self.y_pos = rospy.get_param(\"/des_pos_y\")\n",
    "\n",
    "        self.x = data.x_pos\n",
    "        self.y = data.y_pos\n",
    "        self.begin_time = rospy.Time.now()\n",
    "\n",
    "        self.x_dist = self.x_pos - self.x\n",
    "        self.y_dist =self.y_pos - self.y\n",
    "        self.distance = math.sqrt((self.x_dist**2) + (self.y_dist**2)) \n",
    "        print(\"The distance to the goal : \")\n",
    "        print(self.distance)\n",
    "        "
   ]
  },
  {
   "cell_type": "markdown",
   "id": "09f87245",
   "metadata": {},
   "source": [
    "---------------"
   ]
  },
  {
   "cell_type": "markdown",
   "id": "862331a0",
   "metadata": {},
   "source": [
    "<font size = 5 > __3. Required Functions :__ </font>"
   ]
  },
  {
   "cell_type": "markdown",
   "id": "db68ccae",
   "metadata": {},
   "source": [
    "<font size = 3 > \"__start_simulation__\" : This function is called when the \"start\" button is clicked. It changes the style of the \"start\" button to indicate that it is active (using the 'success' style), and clears the style of the \"stop\" button. </font>\n",
    "\n",
    "<font size = 3 > \"__stop_simulation__\" : This function is called when the \"stop\" button is clicked. It changes the style of the \"stop\" button to indicate that it is active (using the 'danger' style), and clears the style of the \"start\" button.</font>\n",
    "\n",
    "<font size = 3 > \"__move_forward__\" : This function is called when the \"up\" button is clicked. It publishes a velocity message with a positive linear velocity to move forward. It also changes the style of the \"up\" button to indicate that it is active (using the 'info' style), and clears the styles of the other movement buttons.</font>\n",
    "\n",
    "<font size = 3 > \"__move_backward__\" : This function is called when the \"down\" button is clicked. It publishes a velocity message with a negative linear velocity to move backward. It changes the style of the \"down\" button to indicate that it is active (using the 'info' style), and clears the styles of the other movement buttons.</font>\n",
    "\n",
    "<font size = 3 > \"__turn_left__\" : This function is called when the \"left\" button is clicked. It publishes a velocity message with a negative angular velocity to turn left. It changes the style of the \"left\" button to indicate that it is active (using the 'info' style), and clears the styles of the other movement buttons.</font>\n",
    "\n",
    "<font size = 3 > \"__turn_right__\" : This function is called when the \"right\" button is clicked. It publishes a velocity message with a positive angular velocity to turn right. It changes the style of the \"right\" button to indicate that it is active (using the 'info' style), and clears the styles of the other movement buttons.</font>\n",
    "\n",
    "<font size = 3 > \"__stop_movement__\" : This function is called when the \"stops\" button is clicked. It publishes a velocity message with zero linear and angular velocities to stop the movement. It changes the style of the \"stops\" button to indicate that it is active (using the 'danger' style), and clears the styles of the other movement buttons.</font>\n",
    "\n",
    "<font size = 3 > \"__button_event__\" : This function sets up the event handling for the buttons. It assigns the appropriate functions to the __on_click__ events of each button, so that when they are clicked, the corresponding functions are called.</font>"
   ]
  },
  {
   "cell_type": "code",
   "execution_count": 6,
   "id": "e7b1bdcf",
   "metadata": {},
   "outputs": [],
   "source": [
    "def start_simulation(a):\n",
    "    #ui_client(\"start\")\n",
    "    start.button_style = 'success'\n",
    "    stop.button_style = ''\n",
    "    \n",
    "    \n",
    "def stop_simulation(b):\n",
    "    #ui_client(\"stop\")\n",
    "    start.button_style = ''\n",
    "    stop.button_style = 'danger'  \n",
    "\n",
    "def move_forward(a):\n",
    "    global pub\n",
    "    lv_multiplier = 1\n",
    "    vel = Twist()\n",
    "    vel.linear.x = lv_multiplier*0.5\n",
    "    pub.publish(vel)\n",
    "    up.button_style = 'info'\n",
    "    down.button_style = ''\n",
    "    left.button_style = ''\n",
    "    right.button_style = ''\n",
    "    stops.button_style = ''\n",
    "    \n",
    "    \n",
    "def move_backward(a):\n",
    "    global pub\n",
    "    lv_multiplier = 1\n",
    "    vel = Twist()\n",
    "    vel.linear.x = lv_multiplier*(-0.5)\n",
    "    pub.publish(vel)\n",
    "    up.button_style = ''\n",
    "    down.button_style = 'info'\n",
    "    left.button_style = ''\n",
    "    right.button_style = ''\n",
    "    #stops.button_style = ''\n",
    "\n",
    "def turn_left(a):\n",
    "    global pub\n",
    "    av_multiplier = 1\n",
    "    vel = Twist()\n",
    "    vel.angular.z = av_multiplier*(-0.5)\n",
    "    pub.publish(vel)\n",
    "    up.button_style = ''\n",
    "    down.button_style = ''\n",
    "    left.button_style = 'info'\n",
    "    right.button_style = ''\n",
    "    stop.button_style = ''\n",
    "\n",
    "\n",
    "def turn_right(a):\n",
    "    global pub\n",
    "    av_multiplier = 1\n",
    "    vel = Twist()\n",
    "    vel.angular.z = av_multiplier*(0.5)\n",
    "    pub.publish(vel)\n",
    "    up.button_style = ''\n",
    "    down.button_style = ''\n",
    "    left.button_style = ''\n",
    "    right.button_style = 'info'\n",
    "    stops.button_style = ''\n",
    "\n",
    "    \n",
    "def stop_movement(a):\n",
    "    global pub\n",
    "    vel = Twist()\n",
    "    vel.linear.x = 0.0\n",
    "    vel.angular.z = 0.0\n",
    "    pub.publish(vel)\n",
    "    up.button_style = ''\n",
    "    down.button_style = ''\n",
    "    left.button_style = ''\n",
    "    right.button_style = ''\n",
    "    stops.button_style = 'danger'\n",
    "\n",
    "    \n",
    "def button_event():\n",
    "    \n",
    "    start.on_click(start_simulation)\n",
    "    stop.on_click(stop_simulation)\n",
    "    up.on_click(move_forward)\n",
    "    down.on_click(move_backward)  \n",
    "    left.on_click(turn_left)\n",
    "    right.on_click(turn_right)  \n",
    "    stops.on_click(stop_movement)\n",
    "    "
   ]
  },
  {
   "cell_type": "markdown",
   "id": "9f6ccec0",
   "metadata": {},
   "source": [
    "------------"
   ]
  },
  {
   "cell_type": "markdown",
   "id": "d2a09f08",
   "metadata": {},
   "source": [
    "<font size = 3 >The __main()__ function is then defined, which serves as the entry point for the program. It initializes a ROS node, sets up ROS subscribers and publishers, creates and animates plots using matplotlib, and defines callback functions for handling received data.</font>\n",
    "\n"
   ]
  },
  {
   "cell_type": "code",
   "execution_count": 7,
   "id": "fc2c0aa0",
   "metadata": {},
   "outputs": [
    {
     "data": {
      "application/vnd.jupyter.widget-view+json": {
       "model_id": "f3f8348dc0994683ba812222b88b1737",
       "version_major": 2,
       "version_minor": 0
      },
      "text/plain": [
       "Canvas(toolbar=Toolbar(toolitems=[('Home', 'Reset original view', 'home', 'home'), ('Back', 'Back to previous …"
      ]
     },
     "metadata": {},
     "output_type": "display_data"
    },
    {
     "data": {
      "application/vnd.jupyter.widget-view+json": {
       "model_id": "5bd3a41ff88949b4a92e417c0b7558db",
       "version_major": 2,
       "version_minor": 0
      },
      "text/plain": [
       "Canvas(toolbar=Toolbar(toolitems=[('Home', 'Reset original view', 'home', 'home'), ('Back', 'Back to previous …"
      ]
     },
     "metadata": {},
     "output_type": "display_data"
    },
    {
     "data": {
      "application/vnd.jupyter.widget-view+json": {
       "model_id": "65f745a91c544446989ce76a66845c43",
       "version_major": 2,
       "version_minor": 0
      },
      "text/plain": [
       "Canvas(toolbar=Toolbar(toolitems=[('Home', 'Reset original view', 'home', 'home'), ('Back', 'Back to previous …"
      ]
     },
     "metadata": {},
     "output_type": "display_data"
    }
   ],
   "source": [
    "%matplotlib widget\n",
    "\n",
    "def main():\n",
    "    visualiser = Visualiser()\n",
    "    \n",
    "    # Publish to \"/cmd_vel\"\n",
    "    global pub\n",
    "    pub = rospy.Publisher('/cmd_vel', Twist, queue_size=10)\n",
    "    \n",
    "    # Subscribe to \"/odom\"\n",
    "    sub1 = rospy.Subscriber(\"/odom\", Odometry,visualiser.odom_callback)\n",
    "    # Subscribe to \"/reaching_goal/goal\"\n",
    "    sub2 = rospy.Subscriber(\"/reaching_goal/goal\", PlanningActionGoal, visualiser.goal_callback)\n",
    "    # Subscribe to \"/scan\"\n",
    "    sub3 = rospy.Subscriber(\"/scan\", LaserScan, visualiser.laser_callback)\n",
    "    \n",
    "    # Plot and Animate the plots\n",
    "    FuncAnimation(visualiser.figure_1, visualiser.plot_update_1, init_func = visualiser.plot_init, blit = True)\n",
    "    FuncAnimation(visualiser.figure_2, visualiser.plot_update_2, init_func = visualiser.plot_init, blit = True)\n",
    "    plt.show(block=True)\n",
    "    \n",
    "    \n",
    "    goals = Goals()\n",
    "    rospy.Subscriber('/reaching_goal/result', assignment_2_2022.msg.PlanningActionResult, goals.reached_callback)\n",
    "    FuncAnimation(goals.figure, goals.plot_update_3, interval = 100)\n",
    "    plt.show()\n",
    "\n",
    "if __name__ == \"__main__\":\n",
    "    \n",
    "    rospy.init_node(\"node_a\")\n",
    "    button_event()\n",
    "    main()"
   ]
  },
  {
   "cell_type": "markdown",
   "id": "9dac63b1",
   "metadata": {},
   "source": [
    "-------------"
   ]
  },
  {
   "cell_type": "markdown",
   "id": "dfb94782",
   "metadata": {},
   "source": [
    "<font size = 5 > __4. Controlling the robot motion using buttons__<font>"
   ]
  },
  {
   "cell_type": "markdown",
   "id": "35d53df1",
   "metadata": {},
   "source": [
    "<font size = 4 >In this part we try to control the motion of the robot (Up, Down, Left, Right, Stop) using widget buttons.<font>"
   ]
  },
  {
   "cell_type": "markdown",
   "id": "72c40361",
   "metadata": {},
   "source": [
    "<font size = 4 color = 'green'> __Start__<font> <font size = 4 > and <font> \n",
    "<font size = 4 color = 'RED'> __Stop__<font>"
   ]
  },
  {
   "cell_type": "code",
   "execution_count": 8,
   "id": "3d8aed69",
   "metadata": {},
   "outputs": [
    {
     "data": {
      "application/vnd.jupyter.widget-view+json": {
       "model_id": "5a4e92346eaf4bf3b512896362bf9de8",
       "version_major": 2,
       "version_minor": 0
      },
      "text/plain": [
       "HBox(children=(Button(description='Start', icon='play', layout=Layout(height='80px', width='50%'), style=Butto…"
      ]
     },
     "metadata": {},
     "output_type": "display_data"
    }
   ],
   "source": [
    "HBox([start,stop])"
   ]
  },
  {
   "cell_type": "markdown",
   "id": "3d23732e",
   "metadata": {},
   "source": [
    "<font size = 4 color = 'blue'> __Up__<font> <font size = 4 > and <font> \n",
    "<font size = 4 color = 'blue'> __Down__<font>"
   ]
  },
  {
   "cell_type": "code",
   "execution_count": 9,
   "id": "1364c811",
   "metadata": {},
   "outputs": [
    {
     "data": {
      "application/vnd.jupyter.widget-view+json": {
       "model_id": "b7fe785bbdbf44f8b2366470bb4c28d6",
       "version_major": 2,
       "version_minor": 0
      },
      "text/plain": [
       "HBox(children=(Button(icon='arrow-up', layout=Layout(grid_area='up', height='50px', width='auto'), style=Butto…"
      ]
     },
     "metadata": {},
     "output_type": "display_data"
    }
   ],
   "source": [
    "HBox([up,down])"
   ]
  },
  {
   "cell_type": "markdown",
   "id": "cd79046d",
   "metadata": {},
   "source": [
    "<font size = 4 color = 'blue'> __Right__<font> <font size = 4 > and <font> \n",
    "<font size = 4 color = 'blue'> __Left__<font>"
   ]
  },
  {
   "cell_type": "code",
   "execution_count": 10,
   "id": "31ac281d",
   "metadata": {},
   "outputs": [
    {
     "data": {
      "application/vnd.jupyter.widget-view+json": {
       "model_id": "b1c6f0dffd2040c5bf4583a5985a7ffc",
       "version_major": 2,
       "version_minor": 0
      },
      "text/plain": [
       "HBox(children=(Button(icon='arrow-left', layout=Layout(grid_area='left', height='50px', width='auto'), style=B…"
      ]
     },
     "metadata": {},
     "output_type": "display_data"
    }
   ],
   "source": [
    "HBox([left,right])"
   ]
  },
  {
   "cell_type": "markdown",
   "id": "31aa7fb4",
   "metadata": {},
   "source": [
    "<font size = 4 color = 'RED'> __Stop__<font>"
   ]
  },
  {
   "cell_type": "code",
   "execution_count": 11,
   "id": "dae2bca3",
   "metadata": {},
   "outputs": [
    {
     "data": {
      "application/vnd.jupyter.widget-view+json": {
       "model_id": "e9fa7230dd824848bc7df3a4d70a908c",
       "version_major": 2,
       "version_minor": 0
      },
      "text/plain": [
       "Button(button_style='danger', icon='stop', layout=Layout(grid_area='stop', height='50px', width='auto'), style…"
      ]
     },
     "metadata": {},
     "output_type": "display_data"
    }
   ],
   "source": [
    "display(stops)"
   ]
  }
 ],
 "metadata": {
  "kernelspec": {
   "display_name": "Python 3 (ipykernel)",
   "language": "python",
   "name": "python3"
  },
  "language_info": {
   "codemirror_mode": {
    "name": "ipython",
    "version": 3
   },
   "file_extension": ".py",
   "mimetype": "text/x-python",
   "name": "python",
   "nbconvert_exporter": "python",
   "pygments_lexer": "ipython3",
   "version": "3.8.5"
  }
 },
 "nbformat": 4,
 "nbformat_minor": 5
}
